{
 "cells": [
  {
   "cell_type": "code",
   "execution_count": 1,
   "id": "d76ede7d-201a-47c9-b2aa-34160dec57e0",
   "metadata": {},
   "outputs": [],
   "source": [
    "import pandas as pd\n",
    "from sklearn.model_selection import train_test_split\n",
    "from sklearn.metrics import accuracy_score, recall_score, f1_score, fbeta_score, classification_report, confusion_matrix\n",
    "from sklearn.model_selection import ParameterGrid\n",
    "from sklearn.pipeline import Pipeline\n",
    "from imblearn.pipeline import Pipeline as ImbPipeline\n",
    "from imblearn.over_sampling import SMOTE\n",
    "\n",
    "from sklearn.tree import DecisionTreeClassifier\n",
    "from sklearn.ensemble import RandomForestClassifier\n",
    "import xgboost as xgb\n",
    "from sklearn.svm import SVC"
   ]
  },
  {
   "cell_type": "code",
   "execution_count": 2,
   "id": "6a4f9eb0-d0fd-4d38-b643-e93fb6246bc7",
   "metadata": {},
   "outputs": [],
   "source": [
    "data = pd.read_csv('./data/processed_data.csv')\n",
    "\n",
    "#Features and Target\n",
    "X = data.drop('y', axis=1)\n",
    "y = data['y']\n",
    "\n",
    "#Split dataset\n",
    "X_train, X_test, y_train, y_test = train_test_split(X, y, test_size=0.1, random_state=2024)\n",
    "X_train, X_val, y_train, y_val = train_test_split(X_train, y_train, test_size=0.1, random_state=2024)"
   ]
  },
  {
   "cell_type": "code",
   "execution_count": 3,
   "id": "cc0d91c2-3e74-47bc-8866-ce8eea99a2f7",
   "metadata": {},
   "outputs": [],
   "source": [
    "def evaluate_model(pipeline):\n",
    "    # evaluate model\n",
    "    y_test_pred = pipeline.predict(X_test)\n",
    "    accuracy = accuracy_score(y_test, y_test_pred)\n",
    "    f2_score = fbeta_score(y_test, y_test_pred, beta=2)\n",
    "    print(f'Accuracy: {accuracy*100:.2f}%')\n",
    "    print(f'F2 Score: {f2_score*100:.2f}%')\n",
    "    print(classification_report(y_test, y_test_pred))\n",
    "    \n",
    "    # cofusion martrix\n",
    "    conf_matrix = confusion_matrix(y_test, y_test_pred)\n",
    "    TN, FP, FN, TP = conf_matrix.ravel()\n",
    "    print(f'TP: {TP}, TN: {TN}, FP: {FP}, FN: {FN}')\n",
    "    \n",
    "    # best params\n",
    "    print(f'Best parameters: {best_params}')\n",
    "\n",
    "def search_best_params(pipeline,param_grid):\n",
    "    best_score = 0\n",
    "    best_params = None\n",
    "    \n",
    "    for params in ParameterGrid(param_grid):\n",
    "        pipeline.set_params(**params)\n",
    "        pipeline.fit(X_train, y_train)\n",
    "        y_val_pred = pipeline.predict(X_val)\n",
    "        score = fbeta_score(y_val, y_val_pred, beta=2) #use f2_score choose best params\n",
    "        \n",
    "        if score > best_score:\n",
    "            best_score = score\n",
    "            best_params = params\n",
    "    return best_params"
   ]
  },
  {
   "cell_type": "markdown",
   "id": "d2391acd-4c9f-4931-96b7-48a12292abb5",
   "metadata": {},
   "source": [
    "### Decision Tree without SMOTE"
   ]
  },
  {
   "cell_type": "code",
   "execution_count": 8,
   "id": "f4152b55-4d5f-47f8-b1a8-6c314d9a687b",
   "metadata": {},
   "outputs": [
    {
     "name": "stdout",
     "output_type": "stream",
     "text": [
      "Accuracy: 87.62%\n",
      "F2 Score: 45.52%\n",
      "              precision    recall  f1-score   support\n",
      "\n",
      "           0       0.93      0.93      0.93      3987\n",
      "           1       0.48      0.45      0.46       535\n",
      "\n",
      "    accuracy                           0.88      4522\n",
      "   macro avg       0.70      0.69      0.70      4522\n",
      "weighted avg       0.87      0.88      0.87      4522\n",
      "\n",
      "TP: 241, TN: 3721, FP: 266, FN: 294\n",
      "Best parameters: {'classifier__criterion': 'gini', 'classifier__max_depth': 30, 'classifier__min_samples_leaf': 1, 'classifier__min_samples_split': 5}\n"
     ]
    }
   ],
   "source": [
    "pipeline = Pipeline(steps=[\n",
    "    ('classifier', DecisionTreeClassifier(random_state=2024))\n",
    "])\n",
    "\n",
    "param_grid = {\n",
    "    'classifier__criterion': ['gini', 'entropy'],\n",
    "    'classifier__max_depth': [10, 20, 30],\n",
    "    'classifier__min_samples_split': [5, 10],\n",
    "    'classifier__min_samples_leaf': [1, 5, 10]\n",
    "}\n",
    "\n",
    "#search best params\n",
    "best_params=search_best_params(pipeline,param_grid)\n",
    "\n",
    "#use best params retrain model\n",
    "pipeline.set_params(**best_params)\n",
    "pipeline.fit(X_train, y_train)\n",
    "\n",
    "#evaluate\n",
    "evaluate_model(pipeline)"
   ]
  },
  {
   "cell_type": "markdown",
   "id": "4b2e2222-3bd3-486c-8ae0-8d7d192bbb1f",
   "metadata": {},
   "source": [
    "### Decision Tree with SMOTE"
   ]
  },
  {
   "cell_type": "code",
   "execution_count": 9,
   "id": "aec94cc3-0913-4e24-9211-7cb84d7007b3",
   "metadata": {},
   "outputs": [
    {
     "name": "stdout",
     "output_type": "stream",
     "text": [
      "Accuracy: 84.34%\n",
      "F2 Score: 64.37%\n",
      "              precision    recall  f1-score   support\n",
      "\n",
      "           0       0.96      0.86      0.91      3987\n",
      "           1       0.41      0.75      0.53       535\n",
      "\n",
      "    accuracy                           0.84      4522\n",
      "   macro avg       0.69      0.80      0.72      4522\n",
      "weighted avg       0.90      0.84      0.86      4522\n",
      "\n",
      "TP: 401, TN: 3413, FP: 574, FN: 134\n",
      "Best parameters: {'classifier__criterion': 'gini', 'classifier__max_depth': 10, 'classifier__min_samples_leaf': 1, 'classifier__min_samples_split': 5}\n"
     ]
    }
   ],
   "source": [
    "pipeline = ImbPipeline(steps=[\n",
    "    ('smote', SMOTE(random_state=2024)),\n",
    "    ('classifier', DecisionTreeClassifier(random_state=2024))\n",
    "])\n",
    "\n",
    "param_grid = {\n",
    "    'classifier__criterion': ['gini', 'entropy'],\n",
    "    'classifier__max_depth': [10, 20, 30],\n",
    "    'classifier__min_samples_split': [5, 10],\n",
    "    'classifier__min_samples_leaf': [1, 5, 10]\n",
    "}\n",
    "\n",
    "#search best params\n",
    "best_params=search_best_params(pipeline,param_grid)\n",
    "\n",
    "#use best params retrain model\n",
    "pipeline.set_params(**best_params)\n",
    "pipeline.fit(X_train, y_train)\n",
    "\n",
    "#evaluate\n",
    "evaluate_model(pipeline)"
   ]
  },
  {
   "cell_type": "markdown",
   "id": "182edd19-29df-4e27-9684-6d694e5ee95b",
   "metadata": {
    "jp-MarkdownHeadingCollapsed": true
   },
   "source": [
    "### Random Forest without SMOTE"
   ]
  },
  {
   "cell_type": "code",
   "execution_count": 13,
   "id": "ee305434-cdb0-4954-89f7-26be5e93e996",
   "metadata": {},
   "outputs": [
    {
     "name": "stdout",
     "output_type": "stream",
     "text": [
      "Accuracy: 90.23%\n",
      "F2 Score: 43.23%\n",
      "              precision    recall  f1-score   support\n",
      "\n",
      "           0       0.92      0.97      0.95      3987\n",
      "           1       0.64      0.40      0.49       535\n",
      "\n",
      "    accuracy                           0.90      4522\n",
      "   macro avg       0.78      0.68      0.72      4522\n",
      "weighted avg       0.89      0.90      0.89      4522\n",
      "\n",
      "TP: 214, TN: 3866, FP: 121, FN: 321\n",
      "Best parameters: {'classifier__bootstrap': False, 'classifier__max_depth': 30, 'classifier__min_samples_leaf': 1, 'classifier__min_samples_split': 2, 'classifier__n_estimators': 200}\n"
     ]
    }
   ],
   "source": [
    "pipeline = Pipeline(steps=[\n",
    "    ('classifier', RandomForestClassifier(random_state=2024))\n",
    "])\n",
    "\n",
    "param_grid = {\n",
    "    'classifier__n_estimators': [100, 200, 300],\n",
    "    'classifier__max_depth': [10, 20, 30],\n",
    "    'classifier__min_samples_split': [2, 10, 20],\n",
    "    'classifier__min_samples_leaf': [1, 5, 10],\n",
    "    'classifier__bootstrap': [True, False],\n",
    "} \n",
    "\n",
    "#search best params\n",
    "best_params=search_best_params(pipeline,param_grid)\n",
    "\n",
    "#use best params retrain model\n",
    "pipeline.set_params(**best_params)\n",
    "pipeline.fit(X_train, y_train)\n",
    "\n",
    "#evaluate\n",
    "evaluate_model(pipeline)"
   ]
  },
  {
   "cell_type": "markdown",
   "id": "8d3e5c55-0d94-4ed5-aaf1-a2f123ffd512",
   "metadata": {
    "jp-MarkdownHeadingCollapsed": true
   },
   "source": [
    "### Random Forest with SMOTE"
   ]
  },
  {
   "cell_type": "code",
   "execution_count": 14,
   "id": "21f91cb7-74d7-4d19-82f3-d2e1d5d01098",
   "metadata": {},
   "outputs": [
    {
     "name": "stdout",
     "output_type": "stream",
     "text": [
      "Accuracy: 85.63%\n",
      "F2 Score: 68.55%\n",
      "              precision    recall  f1-score   support\n",
      "\n",
      "           0       0.97      0.86      0.91      3987\n",
      "           1       0.44      0.80      0.57       535\n",
      "\n",
      "    accuracy                           0.86      4522\n",
      "   macro avg       0.70      0.83      0.74      4522\n",
      "weighted avg       0.91      0.86      0.87      4522\n",
      "\n",
      "TP: 426, TN: 3446, FP: 541, FN: 109\n",
      "Best parameters: {'classifier__bootstrap': False, 'classifier__max_depth': 10, 'classifier__min_samples_leaf': 1, 'classifier__min_samples_split': 20, 'classifier__n_estimators': 200}\n"
     ]
    }
   ],
   "source": [
    "pipeline = ImbPipeline(steps=[\n",
    "    ('smote', SMOTE(random_state=2024)),\n",
    "    ('classifier', RandomForestClassifier(random_state=2024))\n",
    "])\n",
    "\n",
    "param_grid = {\n",
    "    'classifier__n_estimators': [100, 200, 300],\n",
    "    'classifier__max_depth': [None, 10, 20, 30],\n",
    "    'classifier__min_samples_split': [2, 10, 20],\n",
    "    'classifier__min_samples_leaf': [1, 5, 10],\n",
    "    'classifier__bootstrap': [True, False],\n",
    "}\n",
    "\n",
    "#search best params\n",
    "best_params=search_best_params(pipeline,param_grid)\n",
    "\n",
    "#use best params retrain model\n",
    "pipeline.set_params(**best_params)\n",
    "pipeline.fit(X_train, y_train)\n",
    "\n",
    "#evaluate\n",
    "evaluate_model(pipeline)"
   ]
  },
  {
   "cell_type": "markdown",
   "id": "a5569a97-8db7-4abb-b163-2d11c5109bce",
   "metadata": {
    "jp-MarkdownHeadingCollapsed": true
   },
   "source": [
    "### XGBoost without SMOTE"
   ]
  },
  {
   "cell_type": "code",
   "execution_count": 11,
   "id": "1ed83787-59e5-4bd0-8c15-094f9c075a32",
   "metadata": {},
   "outputs": [
    {
     "name": "stdout",
     "output_type": "stream",
     "text": [
      "Accuracy: 90.18%\n",
      "F2 Score: 52.30%\n",
      "              precision    recall  f1-score   support\n",
      "\n",
      "           0       0.94      0.95      0.94      3987\n",
      "           1       0.60      0.51      0.55       535\n",
      "\n",
      "    accuracy                           0.90      4522\n",
      "   macro avg       0.77      0.73      0.75      4522\n",
      "weighted avg       0.90      0.90      0.90      4522\n",
      "\n",
      "TP: 271, TN: 3807, FP: 180, FN: 264\n",
      "Best parameters: {'classifier__colsample_bytree': 0.8, 'classifier__learning_rate': 0.2, 'classifier__max_depth': 7, 'classifier__n_estimators': 300, 'classifier__subsample': 0.8}\n"
     ]
    }
   ],
   "source": [
    "pipeline = Pipeline(steps=[\n",
    "    ('classifier', xgb.XGBClassifier(use_label_encoder=False, eval_metric='logloss', random_state=2024))\n",
    "])\n",
    "\n",
    "param_grid = {\n",
    "    'classifier__n_estimators': [100, 200, 300],\n",
    "    'classifier__max_depth': [3, 5, 7],\n",
    "    'classifier__learning_rate': [0.01, 0.1, 0.2],\n",
    "    'classifier__subsample': [0.6, 0.8, 1.0],\n",
    "    'classifier__colsample_bytree': [0.6, 0.8, 1.0]\n",
    "}\n",
    "\n",
    "#search best params\n",
    "best_params=search_best_params(pipeline,param_grid)\n",
    "\n",
    "#use best params retrain model\n",
    "pipeline.set_params(**best_params)\n",
    "pipeline.fit(X_train, y_train)\n",
    "\n",
    "#evaluate\n",
    "evaluate_model(pipeline)"
   ]
  },
  {
   "cell_type": "markdown",
   "id": "5a53cb51-772e-472b-a740-9c6dcb7baa3c",
   "metadata": {},
   "source": [
    "### XGBoost with SMOTE"
   ]
  },
  {
   "cell_type": "code",
   "execution_count": 12,
   "id": "a071c9f9-e140-4a88-a541-4c1421b02d3e",
   "metadata": {},
   "outputs": [
    {
     "name": "stdout",
     "output_type": "stream",
     "text": [
      "Accuracy: 84.83%\n",
      "F2 Score: 68.23%\n",
      "              precision    recall  f1-score   support\n",
      "\n",
      "           0       0.97      0.85      0.91      3987\n",
      "           1       0.43      0.80      0.56       535\n",
      "\n",
      "    accuracy                           0.85      4522\n",
      "   macro avg       0.70      0.83      0.73      4522\n",
      "weighted avg       0.91      0.85      0.87      4522\n",
      "\n",
      "TP: 430, TN: 3406, FP: 581, FN: 105\n",
      "Best parameters: {'classifier__colsample_bytree': 1.0, 'classifier__learning_rate': 0.01, 'classifier__max_depth': 7, 'classifier__n_estimators': 200, 'classifier__subsample': 0.6}\n"
     ]
    }
   ],
   "source": [
    "pipeline = ImbPipeline(steps=[\n",
    "    ('smote', SMOTE(random_state=2024)),\n",
    "    ('classifier', xgb.XGBClassifier(use_label_encoder=False, eval_metric='logloss', random_state=2024))\n",
    "])\n",
    "\n",
    "param_grid = {\n",
    "    'classifier__n_estimators': [100, 200, 300],\n",
    "    'classifier__max_depth': [3, 5, 7],\n",
    "    'classifier__learning_rate': [0.01, 0.1, 0.2],\n",
    "    'classifier__subsample': [0.6, 0.8, 1.0],\n",
    "    'classifier__colsample_bytree': [0.6, 0.8, 1.0]\n",
    "}\n",
    "\n",
    "#search best params\n",
    "best_params=search_best_params(pipeline,param_grid)\n",
    "\n",
    "#use best params retrain model\n",
    "pipeline.set_params(**best_params)\n",
    "pipeline.fit(X_train, y_train)\n",
    "\n",
    "#evaluate\n",
    "evaluate_model(pipeline)"
   ]
  },
  {
   "cell_type": "markdown",
   "id": "55670cf3-bf66-492d-982f-f966131e000e",
   "metadata": {},
   "source": [
    "### SVM without SMOTE"
   ]
  },
  {
   "cell_type": "code",
   "execution_count": 15,
   "id": "ee6c0e60-2c81-4014-bfb0-add71676e36d",
   "metadata": {},
   "outputs": [
    {
     "name": "stdout",
     "output_type": "stream",
     "text": [
      "Accuracy: 88.85%\n",
      "F2 Score: 50.66%\n",
      "              precision    recall  f1-score   support\n",
      "\n",
      "           0       0.93      0.94      0.94      3987\n",
      "           1       0.53      0.50      0.52       535\n",
      "\n",
      "    accuracy                           0.89      4522\n",
      "   macro avg       0.73      0.72      0.73      4522\n",
      "weighted avg       0.89      0.89      0.89      4522\n",
      "\n",
      "TP: 268, TN: 3750, FP: 237, FN: 267\n",
      "Best parameters: {'classifier__C': 100, 'classifier__gamma': 'scale', 'classifier__kernel': 'rbf'}\n"
     ]
    }
   ],
   "source": [
    "pipeline = Pipeline(steps=[\n",
    "   \n",
    "    ('classifier', SVC(random_state=2024))\n",
    "])\n",
    "\n",
    "param_grid = {\n",
    "    'classifier__C': [0.1, 1, 10, 100],\n",
    "    'classifier__kernel': ['linear', 'rbf'],\n",
    "    'classifier__gamma': ['scale', 'auto']\n",
    "}\n",
    "\n",
    "#search best params\n",
    "best_params=search_best_params(pipeline,param_grid)\n",
    "\n",
    "#use best params retrain model\n",
    "pipeline.set_params(**best_params)\n",
    "pipeline.fit(X_train, y_train)\n",
    "\n",
    "#evaluate\n",
    "evaluate_model(pipeline)"
   ]
  },
  {
   "cell_type": "markdown",
   "id": "5f39c674-0a93-47b1-86f3-c72c24ee4d02",
   "metadata": {},
   "source": [
    "### SVM with SMOTE"
   ]
  },
  {
   "cell_type": "code",
   "execution_count": 16,
   "id": "137b924a-1e98-4613-a804-8d1ef79906ad",
   "metadata": {},
   "outputs": [
    {
     "name": "stdout",
     "output_type": "stream",
     "text": [
      "Accuracy: 86.33%\n",
      "F2 Score: 70.78%\n",
      "              precision    recall  f1-score   support\n",
      "\n",
      "           0       0.97      0.87      0.92      3987\n",
      "           1       0.46      0.82      0.59       535\n",
      "\n",
      "    accuracy                           0.86      4522\n",
      "   macro avg       0.71      0.84      0.75      4522\n",
      "weighted avg       0.91      0.86      0.88      4522\n",
      "\n",
      "TP: 439, TN: 3465, FP: 522, FN: 96\n",
      "Best parameters: {'classifier__C': 10, 'classifier__gamma': 'auto', 'classifier__kernel': 'rbf'}\n"
     ]
    }
   ],
   "source": [
    "pipeline = ImbPipeline(steps=[\n",
    "    ('smote', SMOTE(random_state=2024)),\n",
    "    ('classifier', SVC(random_state=2024))\n",
    "])\n",
    "\n",
    "param_grid = {\n",
    "    'classifier__C': [0.1, 1, 10, 100],\n",
    "    'classifier__kernel': ['linear', 'rbf'],\n",
    "    'classifier__gamma': ['scale', 'auto']\n",
    "}\n",
    "\n",
    "#search best params\n",
    "best_params=search_best_params(pipeline,param_grid)\n",
    "\n",
    "#use best params retrain model\n",
    "pipeline.set_params(**best_params)\n",
    "pipeline.fit(X_train, y_train)\n",
    "\n",
    "#evaluate\n",
    "evaluate_model(pipeline)"
   ]
  },
  {
   "cell_type": "code",
   "execution_count": null,
   "id": "6a6a56fd-1bf5-465f-ab91-ff6e0bc028d2",
   "metadata": {},
   "outputs": [],
   "source": []
  }
 ],
 "metadata": {
  "kernelspec": {
   "display_name": "Python 3 (ipykernel)",
   "language": "python",
   "name": "python3"
  },
  "language_info": {
   "codemirror_mode": {
    "name": "ipython",
    "version": 3
   },
   "file_extension": ".py",
   "mimetype": "text/x-python",
   "name": "python",
   "nbconvert_exporter": "python",
   "pygments_lexer": "ipython3",
   "version": "3.11.7"
  }
 },
 "nbformat": 4,
 "nbformat_minor": 5
}
